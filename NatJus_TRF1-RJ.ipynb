{
 "cells": [
  {
   "cell_type": "code",
   "execution_count": 7,
   "id": "fa125caf",
   "metadata": {},
   "outputs": [],
   "source": [
    "import requests\n",
    "from bs4 import BeautifulSoup as bs\n",
    "import pandas as pd"
   ]
  },
  {
   "cell_type": "code",
   "execution_count": 23,
   "id": "c7431da9",
   "metadata": {},
   "outputs": [],
   "source": [
    "def extrair_pareceres_do_ano(ano):\n",
    "    url = f\"https://www10.trf2.jus.br/comite-estadual-de-saude-rj/nat-jus/pareceres/pareceres-{ano}/\"\n",
    "    pagina = requests.get(url, verify=False)\n",
    "    pagina_bs = bs(pagina.content, \"html.parser\")\n",
    "    info_pareceres = []\n",
    "    tabela = pagina_bs.find('dl')\n",
    "    lista_de_dt = tabela.find_all('dt')\n",
    "    lista_de_dd = tabela.find_all('dd')\n",
    "    \n",
    "    \n",
    "    for i in range(len(lista_de_dt)):\n",
    "        titulo = lista_de_dt[i].text.strip()\n",
    "        \n",
    "        link = lista_de_dt[i].find('a').get(\"href\").strip()\n",
    "        if link.startswith(('http', '//')):\n",
    "            link = link.replace('//', 'https://')\n",
    "        else:\n",
    "            link = \"https://www10.trf2.jus.br/\" + link\n",
    "       \n",
    "        descricao = lista_de_dd[i].text.strip()\n",
    "        info_pareceres.append([titulo, ano, link, descricao])\n",
    "        \n",
    "    pareceres_df = pd.DataFrame(info_pareceres, columns=[\"Título\", \"Ano\", \"Link\", \"Descricao\"])\n",
    "    return pareceres_df"
   ]
  },
  {
   "cell_type": "code",
   "execution_count": 26,
   "id": "102fa2de",
   "metadata": {},
   "outputs": [
    {
     "name": "stderr",
     "output_type": "stream",
     "text": [
      "C:\\Users\\bruno\\anaconda3\\lib\\site-packages\\urllib3\\connectionpool.py:1043: InsecureRequestWarning: Unverified HTTPS request is being made to host 'www10.trf2.jus.br'. Adding certificate verification is strongly advised. See: https://urllib3.readthedocs.io/en/1.26.x/advanced-usage.html#ssl-warnings\n",
      "  warnings.warn(\n",
      "C:\\Users\\bruno\\anaconda3\\lib\\site-packages\\urllib3\\connectionpool.py:1043: InsecureRequestWarning: Unverified HTTPS request is being made to host 'www10.trf2.jus.br'. Adding certificate verification is strongly advised. See: https://urllib3.readthedocs.io/en/1.26.x/advanced-usage.html#ssl-warnings\n",
      "  warnings.warn(\n",
      "C:\\Users\\bruno\\anaconda3\\lib\\site-packages\\urllib3\\connectionpool.py:1043: InsecureRequestWarning: Unverified HTTPS request is being made to host 'www10.trf2.jus.br'. Adding certificate verification is strongly advised. See: https://urllib3.readthedocs.io/en/1.26.x/advanced-usage.html#ssl-warnings\n",
      "  warnings.warn(\n",
      "C:\\Users\\bruno\\anaconda3\\lib\\site-packages\\urllib3\\connectionpool.py:1043: InsecureRequestWarning: Unverified HTTPS request is being made to host 'www10.trf2.jus.br'. Adding certificate verification is strongly advised. See: https://urllib3.readthedocs.io/en/1.26.x/advanced-usage.html#ssl-warnings\n",
      "  warnings.warn(\n",
      "C:\\Users\\bruno\\anaconda3\\lib\\site-packages\\urllib3\\connectionpool.py:1043: InsecureRequestWarning: Unverified HTTPS request is being made to host 'www10.trf2.jus.br'. Adding certificate verification is strongly advised. See: https://urllib3.readthedocs.io/en/1.26.x/advanced-usage.html#ssl-warnings\n",
      "  warnings.warn(\n",
      "C:\\Users\\bruno\\anaconda3\\lib\\site-packages\\urllib3\\connectionpool.py:1043: InsecureRequestWarning: Unverified HTTPS request is being made to host 'www10.trf2.jus.br'. Adding certificate verification is strongly advised. See: https://urllib3.readthedocs.io/en/1.26.x/advanced-usage.html#ssl-warnings\n",
      "  warnings.warn(\n",
      "C:\\Users\\bruno\\anaconda3\\lib\\site-packages\\urllib3\\connectionpool.py:1043: InsecureRequestWarning: Unverified HTTPS request is being made to host 'www10.trf2.jus.br'. Adding certificate verification is strongly advised. See: https://urllib3.readthedocs.io/en/1.26.x/advanced-usage.html#ssl-warnings\n",
      "  warnings.warn(\n"
     ]
    }
   ],
   "source": [
    "anos = range(2017, 2024) # de 2017 a 2023 - tem que colocar um ano a mais\n",
    "pareceres_df = pd.concat([extrair_pareceres_do_ano(ano) for ano in anos])"
   ]
  },
  {
   "cell_type": "code",
   "execution_count": 27,
   "id": "962022d1",
   "metadata": {},
   "outputs": [],
   "source": [
    "pareceres_df.to_excel(\"trfrj1.xlsx\")"
   ]
  }
 ],
 "metadata": {
  "kernelspec": {
   "display_name": "Python 3 (ipykernel)",
   "language": "python",
   "name": "python3"
  },
  "language_info": {
   "codemirror_mode": {
    "name": "ipython",
    "version": 3
   },
   "file_extension": ".py",
   "mimetype": "text/x-python",
   "name": "python",
   "nbconvert_exporter": "python",
   "pygments_lexer": "ipython3",
   "version": "3.9.12"
  }
 },
 "nbformat": 4,
 "nbformat_minor": 5
}
