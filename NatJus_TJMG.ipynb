{
 "cells": [
  {
   "cell_type": "code",
   "execution_count": 1,
   "id": "fe3bd57a",
   "metadata": {},
   "outputs": [],
   "source": [
    "import requests\n",
    "from bs4 import BeautifulSoup as bs\n",
    "import pandas as pd\n",
    "\n",
    "import re"
   ]
  },
  {
   "cell_type": "code",
   "execution_count": 22,
   "id": "5cc2176d",
   "metadata": {},
   "outputs": [
    {
     "name": "stdout",
     "output_type": "stream",
     "text": [
      "Coletando dados da página 1 do link 1\n",
      "Coletando dados da página 2 do link 1\n",
      "Coletando dados da página 3 do link 1\n",
      "Coletando dados da página 4 do link 1\n",
      "Coletando dados da página 5 do link 1\n",
      "Coletando dados da página 6 do link 1\n",
      "Coletando dados da página 7 do link 1\n",
      "Coletando dados da página 8 do link 1\n",
      "Coletando dados da página 9 do link 1\n",
      "Coletando dados da página 10 do link 1\n",
      "Coletando dados da página 11 do link 1\n",
      "Coletando dados da página 12 do link 1\n",
      "Coletando dados da página 13 do link 1\n",
      "Coletando dados da página 14 do link 1\n",
      "Coletando dados da página 15 do link 1\n",
      "Coletando dados da página 16 do link 1\n",
      "Coletando dados da página 17 do link 1\n",
      "Coletando dados da página 18 do link 1\n",
      "Coletando dados da página 19 do link 1\n",
      "Coletando dados da página 20 do link 1\n",
      "Coletando dados da página 21 do link 1\n",
      "Coletando dados da página 22 do link 1\n",
      "Coletando dados da página 1 do link 2\n",
      "Coletando dados da página 1 do link 3\n",
      "Coletando dados da página 2 do link 3\n",
      "Coletando dados da página 3 do link 3\n",
      "Coletando dados da página 4 do link 3\n",
      "Coletando dados da página 5 do link 3\n",
      "Coletando dados da página 6 do link 3\n",
      "Coletando dados da página 7 do link 3\n",
      "Coletando dados da página 8 do link 3\n",
      "Coletando dados da página 9 do link 3\n",
      "Coletando dados da página 10 do link 3\n",
      "Coletando dados da página 11 do link 3\n",
      "Coletando dados da página 12 do link 3\n",
      "Coletando dados da página 13 do link 3\n",
      "Coletando dados da página 14 do link 3\n",
      "Coletando dados da página 15 do link 3\n",
      "Coletando dados da página 16 do link 3\n",
      "Coletando dados da página 17 do link 3\n",
      "Coletando dados da página 18 do link 3\n"
     ]
    }
   ],
   "source": [
    "urls = [\n",
    "    \"https://bd.tjmg.jus.br/jspui/handle/tjmg/7735/browse?type=dateissued&sort_by=2&order=DESC&rpp=100&etal=-1&null=&offset=\",\n",
    "    \"https://bd.tjmg.jus.br/jspui/handle/tjmg/7736/browse?type=dateissued&sort_by=2&order=DESC&rpp=100&etal=-1&null=&offset=0\",\n",
    "    \"https://bd.tjmg.jus.br/jspui/handle/tjmg/7737/browse?type=dateissued&sort_by=2&order=DESC&rpp=100&etal=-1&null=&offset=\"\n",
    "]\n",
    "\n",
    "max_offsets = [2100, 0, 1700]\n",
    "\n",
    "categorias = [\"Nota Técnica\", \"Parecer Técnico\", \"Parecer Técnico\"]\n",
    "\n",
    "info_pareceres = []\n",
    "\n",
    "for i, url_base in enumerate(urls):\n",
    "    offset = 0\n",
    "    categoria = categorias[i]\n",
    "\n",
    "    while offset <= max_offsets[i]:\n",
    "        print(f\"Coletando dados da página {offset // 100 + 1} do link {i+1}\")\n",
    "        link = url_base + str(offset)\n",
    "        pareceres = requests.get(link)\n",
    "        pareceres_bs = bs(pareceres.content, \"lxml\")\n",
    "\n",
    "        tabela = pareceres_bs.find('table', attrs={'class':'miscTable'})\n",
    "        lista_de_tr = tabela.find_all('tr')\n",
    "\n",
    "        if len(lista_de_tr) <= 1:\n",
    "            break\n",
    "\n",
    "        for tr in lista_de_tr[1:]:\n",
    "            dados = tr.find_all('td')\n",
    "            data = dados[1].text.strip()\n",
    "            ano = int(data[-4:])\n",
    "            titulo = dados[2].text.strip()\n",
    "            link_tag = dados[2].find(\"a\")\n",
    "            link = \"https://bd.tjmg.jus.br/\" + link_tag.get(\"href\").strip() if link_tag is not None else \"\"\n",
    "\n",
    "            info_pareceres.append([ano, data, titulo, categoria, link])\n",
    "\n",
    "        offset += 100"
   ]
  },
  {
   "cell_type": "code",
   "execution_count": 24,
   "id": "b678ae4e",
   "metadata": {},
   "outputs": [],
   "source": [
    "pareceres_df = pd.DataFrame(info_pareceres)\n",
    "pareceres_df.columns = [\"Ano\", \"Data\", \"Título\", \"Tipo de Documento\", \"Link\"]\n",
    "\n",
    "pareceres_df.to_excel(\"tjmg1.xlsx\")"
   ]
  }
 ],
 "metadata": {
  "kernelspec": {
   "display_name": "Python 3 (ipykernel)",
   "language": "python",
   "name": "python3"
  },
  "language_info": {
   "codemirror_mode": {
    "name": "ipython",
    "version": 3
   },
   "file_extension": ".py",
   "mimetype": "text/x-python",
   "name": "python",
   "nbconvert_exporter": "python",
   "pygments_lexer": "ipython3",
   "version": "3.9.12"
  }
 },
 "nbformat": 4,
 "nbformat_minor": 5
}
