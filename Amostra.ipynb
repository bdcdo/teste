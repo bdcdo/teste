{
 "cells": [
  {
   "cell_type": "code",
   "execution_count": 21,
   "id": "03d5995e",
   "metadata": {},
   "outputs": [],
   "source": [
    "import pandas as pd\n",
    "import random\n",
    "from openpyxl import Workbook\n",
    "from openpyxl import load_workbook\n",
    "import math\n",
    "from scipy import stats"
   ]
  },
  {
   "cell_type": "code",
   "execution_count": 35,
   "id": "41cf3306",
   "metadata": {},
   "outputs": [],
   "source": [
    "# leia o arquivo do excel em um dataframe do pandas\n",
    "df = pd.read_excel('trfrj1Amostra.xlsx')"
   ]
  },
  {
   "cell_type": "code",
   "execution_count": 36,
   "id": "2dc98430",
   "metadata": {},
   "outputs": [],
   "source": [
    "# defina o nível de confiança e a margem de erro desejados\n",
    "confianca = 0.95\n",
    "margem_erro = 0.05\n",
    "\n",
    "# Determine o valor crítico da distribuição normal para o nível de confiança desejado\n",
    "z = abs(stats.norm.ppf((1 - confianca) / 2))\n",
    "\n",
    "# Estime a proporção da característica de interesse na população (pode ser 0,5 para maximizar o tamanho da amostra)\n",
    "p = 0.5\n",
    "\n",
    "# obtenha o tamanho da população\n",
    "tamanho_populacao = len(df) - 1\n",
    "\n",
    "# calcule o tamanho da amostra necessário com base na fórmula do tamanho da amostra\n",
    "tamanho_amostra = math.ceil((tamanho_populacao * z**2 * p * (1-p)) / ((tamanho_populacao - 1) * margem_erro**2 + z**2 * p * (1-p)))"
   ]
  },
  {
   "cell_type": "code",
   "execution_count": 37,
   "id": "aac5040d",
   "metadata": {},
   "outputs": [],
   "source": [
    "# selecione uma amostra aleatória de linhas\n",
    "amostra = df.sample(n=tamanho_amostra, random_state=1)\n",
    "\n",
    "# salve a amostra como um arquivo do Excel\n",
    "amostra.to_excel('trfrj1Amostra-Selecionados.xlsx', sheet_name='Amostra', index=False)"
   ]
  },
  {
   "cell_type": "code",
   "execution_count": 38,
   "id": "5778a1e7",
   "metadata": {},
   "outputs": [],
   "source": [
    "# atualize o arquivo original para indicar quais linhas foram selecionadas\n",
    "wb_orig = load_workbook(filename=\"trfrj1Amostra.xlsx\")\n",
    "ws_orig = wb_orig.active\n",
    "\n",
    "# crie uma nova coluna para indicar se a linha foi selecionada ou não\n",
    "ws_orig.insert_cols(len(df.columns) + 1)\n",
    "ws_orig.cell(row=1, column=len(df.columns) + 1, value='Selecionado')\n",
    "\n",
    "# preencha a nova coluna com os valores 'Sim' ou 'Não' para cada linha\n",
    "for row_num, row_data in df.iterrows():\n",
    "    if row_num + 2 in amostra.index:\n",
    "        ws_orig.cell(row=row_num + 2, column=len(df.columns) + 1, value='Sim')\n",
    "    else:\n",
    "        ws_orig.cell(row=row_num + 2, column=len(df.columns) + 1, value='Não')\n",
    "\n",
    "# salve o arquivo original atualizado\n",
    "wb_orig.save('trfrj1Amostra_atualizado.xlsx')"
   ]
  },
  {
   "cell_type": "code",
   "execution_count": null,
   "id": "b0a41f20",
   "metadata": {},
   "outputs": [],
   "source": []
  }
 ],
 "metadata": {
  "kernelspec": {
   "display_name": "Python 3 (ipykernel)",
   "language": "python",
   "name": "python3"
  },
  "language_info": {
   "codemirror_mode": {
    "name": "ipython",
    "version": 3
   },
   "file_extension": ".py",
   "mimetype": "text/x-python",
   "name": "python",
   "nbconvert_exporter": "python",
   "pygments_lexer": "ipython3",
   "version": "3.9.12"
  }
 },
 "nbformat": 4,
 "nbformat_minor": 5
}
